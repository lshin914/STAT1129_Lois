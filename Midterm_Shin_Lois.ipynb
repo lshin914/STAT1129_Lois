{
 "cells": [
  {
   "cell_type": "markdown",
   "id": "2dadead1",
   "metadata": {},
   "source": [
    "## Question 1"
   ]
  },
  {
   "cell_type": "markdown",
   "id": "db7e259b",
   "metadata": {},
   "source": [
    "Read the file, numbers.txt."
   ]
  },
  {
   "cell_type": "code",
   "execution_count": 88,
   "id": "7675b633",
   "metadata": {},
   "outputs": [
    {
     "name": "stdout",
     "output_type": "stream",
     "text": [
      "2,4,6,8,4,5,2,1,9,0,4,6,7,4,3,2,1,9,10,3,7,9,6,0,1,3,5,6,7,8,9,10,2,3,6,8,9,10,6,7,4,3\n",
      "2,1,9,10,3,7,9,6,0,1,3,5,6,7,8,9,10,2,3,6,8,9,10,2,4,6,8,4,5,2,1,9,0,4,6,7,4,3,2,1,9,10,3,7,9,6\n",
      "4,5,2,1,9,0,4,6,7,4,3,2,1,9,10,3,7,9,6,0,1,3,5,6,7,8,9,10,2,3,6,8,9,10,6,7,4,3,6,8,4,5,2\n",
      "10,3,7,9,6,0,1,3,5,6,7,8,9,10,2,3,6,8,9,10,2,4,6,8,4,5,2,1,9,0,4,6,7,4\n",
      "2,4,6,8,4,5,2,1,9,0,4,6,7,4,3,2,1,9,10,3,7,9,6\n"
     ]
    }
   ],
   "source": [
    "f = open('numbers.txt', 'r')\n",
    "print(f.read())"
   ]
  },
  {
   "cell_type": "code",
   "execution_count": 98,
   "id": "2ff4cddb",
   "metadata": {},
   "outputs": [
    {
     "name": "stdout",
     "output_type": "stream",
     "text": [
      "['2', '4', '6', '8', '4', '5', '2', '1', '9', '0', '4', '6', '7', '4', '3', '2', '1', '9', '10', '3', '7', '9', '6', '0', '1', '3', '5', '6', '7', '8', '9', '10', '2', '3', '6', '8', '9', '10', '6', '7', '4', '3', '2', '1', '9', '10', '3', '7', '9', '6', '0', '1', '3', '5', '6', '7', '8', '9', '10', '2', '3', '6', '8', '9', '10', '2', '4', '6', '8', '4', '5', '2', '1', '9', '0', '4', '6', '7', '4', '3', '2', '1', '9', '10', '3', '7', '9', '6', '4', '5', '2', '1', '9', '0', '4', '6', '7', '4', '3', '2', '1', '9', '10', '3', '7', '9', '6', '0', '1', '3', '5', '6', '7', '8', '9', '10', '2', '3', '6', '8', '9', '10', '6', '7', '4', '3', '6', '8', '4', '5', '2', '10', '3', '7', '9', '6', '0', '1', '3', '5', '6', '7', '8', '9', '10', '2', '3', '6', '8', '9', '10', '2', '4', '6', '8', '4', '5', '2', '1', '9', '0', '4', '6', '7', '4', '2', '4', '6', '8', '4', '5', '2', '1', '9', '0', '4', '6', '7', '4', '3', '2', '1', '9', '10', '3', '7', '9', '6']\n"
     ]
    }
   ],
   "source": [
    "f = open('numbers.txt', 'r')\n",
    "data = f.readlines()\n",
    "data_list = []\n",
    "for line in data:\n",
    "    data_list = data_list + line.strip().split(',')\n",
    "print(data_list)"
   ]
  },
  {
   "cell_type": "markdown",
   "id": "31aeaa9e",
   "metadata": {},
   "source": [
    "Find the frequency of each distinct element using a dictionary."
   ]
  },
  {
   "cell_type": "code",
   "execution_count": 109,
   "id": "1a254fc7",
   "metadata": {
    "scrolled": true
   },
   "outputs": [
    {
     "name": "stdout",
     "output_type": "stream",
     "text": [
      "{'2': 19, '4': 22, '6': 26, '8': 13, '5': 10, '1': 14, '9': 24, '0': 9, '7': 17, '3': 20, '10': 14}\n"
     ]
    }
   ],
   "source": [
    "distinct_elements = {}\n",
    "for item in data_list:\n",
    "    if item in distinct_elements.keys():\n",
    "        distinct_elements[item] += 1\n",
    "    else:\n",
    "        distinct_elements[item] = 1\n",
    "\n",
    "print (distinct_elements) "
   ]
  },
  {
   "cell_type": "markdown",
   "id": "255ef58f",
   "metadata": {},
   "source": [
    "Plot the frequency results using a histogram."
   ]
  },
  {
   "cell_type": "code",
   "execution_count": 105,
   "id": "5115a9e4",
   "metadata": {},
   "outputs": [],
   "source": [
    "import matplotlib"
   ]
  },
  {
   "cell_type": "code",
   "execution_count": 106,
   "id": "62a666e9",
   "metadata": {},
   "outputs": [],
   "source": [
    "import matplotlib.pyplot as plt"
   ]
  },
  {
   "cell_type": "code",
   "execution_count": 107,
   "id": "f2883f74",
   "metadata": {},
   "outputs": [],
   "source": [
    "import numpy as np"
   ]
  },
  {
   "cell_type": "code",
   "execution_count": 161,
   "id": "59935447",
   "metadata": {},
   "outputs": [
    {
     "data": {
      "image/png": "[encoded data removed]",
      "text/plain": [
       "<Figure size 432x288 with 1 Axes>"
      ]
     },
     "metadata": {
      "needs_background": "light"
     },
     "output_type": "display_data"
    }
   ],
   "source": [
    "x = data_list\n",
    "\n",
    "plt.hist(x)\n",
    "plt.xlabel(\"Number\")\n",
    "plt.ylabel(\"Frequency\")\n",
    "plt.show()"
   ]
  },
  {
   "cell_type": "markdown",
   "id": "c03bc74c",
   "metadata": {},
   "source": [
    "Store the dictionary results into a json file and store it in your local computer."
   ]
  },
  {
   "cell_type": "code",
   "execution_count": 110,
   "id": "61318e17",
   "metadata": {},
   "outputs": [],
   "source": [
    "import json"
   ]
  },
  {
   "cell_type": "code",
   "execution_count": 112,
   "id": "04cc0674",
   "metadata": {},
   "outputs": [
    {
     "name": "stdout",
     "output_type": "stream",
     "text": [
      "{\"2\": 19, \"4\": 22, \"6\": 26, \"8\": 13, \"5\": 10, \"1\": 14, \"9\": 24, \"0\": 9, \"7\": 17, \"3\": 20, \"10\": 14}\n"
     ]
    }
   ],
   "source": [
    "y = json.dumps(distinct_elements)\n",
    "print(y)"
   ]
  },
  {
   "cell_type": "markdown",
   "id": "afd815e6",
   "metadata": {},
   "source": [
    "## Question 2"
   ]
  },
  {
   "cell_type": "markdown",
   "id": "81d53a94",
   "metadata": {},
   "source": [
    "Choice 2: How Much Have You Spent on Amazon? Analyze Amazon Data in different ways,\n",
    "plot your historical transactions amount. You can either summarize that into monthly payment,\n",
    "or show your mean payment, and so on. You can follow https://www.dataquest.io/blog/howmuch-spent-amazon-data-analysis/ to download your Amazon order historical data."
   ]
  },
  {
   "cell_type": "markdown",
   "id": "d8829960",
   "metadata": {},
   "source": [
    "Requirements:\n",
    "1. You should have some statistical analysis, including monthly summary, average, median,\n",
    "max, min, and standard deviation.\n",
    "2. Your visualization should have a pie chart, a bar chart, and multiple line comparisons. For\n",
    "example, you can compare different categories. "
   ]
  },
  {
   "cell_type": "code",
   "execution_count": 2,
   "id": "a3b024e2",
   "metadata": {},
   "outputs": [],
   "source": [
    "import pandas as pd"
   ]
  },
  {
   "cell_type": "code",
   "execution_count": 3,
   "id": "5aa0fd32",
   "metadata": {},
   "outputs": [],
   "source": [
    "import numpy as np"
   ]
  },
  {
   "cell_type": "code",
   "execution_count": 203,
   "id": "0851b9cd",
   "metadata": {
    "scrolled": true
   },
   "outputs": [
    {
     "name": "stderr",
     "output_type": "stream",
     "text": [
      "/var/folders/j8/tyjtk3456cvgmxh9rjzjnhp80000gp/T/ipykernel_74643/1755764336.py:3: FutureWarning: The default value of regex will change from True to False in a future version. In addition, single character regular expressions will *not* be treated as literal strings when regex=True.\n",
      "  df[\"Subtotal\"] = df[\"Subtotal\"].str.replace('$','').astype(float)\n",
      "/var/folders/j8/tyjtk3456cvgmxh9rjzjnhp80000gp/T/ipykernel_74643/1755764336.py:4: FutureWarning: The default value of regex will change from True to False in a future version. In addition, single character regular expressions will *not* be treated as literal strings when regex=True.\n",
      "  df[\"Total Charged\"] = df[\"Total Charged\"].str.replace('$','').astype(float)\n",
      "/var/folders/j8/tyjtk3456cvgmxh9rjzjnhp80000gp/T/ipykernel_74643/1755764336.py:5: FutureWarning: The default value of regex will change from True to False in a future version. In addition, single character regular expressions will *not* be treated as literal strings when regex=True.\n",
      "  df[\"Shipping Charge\"] = df[\"Shipping Charge\"].str.replace('$','').astype(float)\n",
      "/var/folders/j8/tyjtk3456cvgmxh9rjzjnhp80000gp/T/ipykernel_74643/1755764336.py:6: FutureWarning: The default value of regex will change from True to False in a future version. In addition, single character regular expressions will *not* be treated as literal strings when regex=True.\n",
      "  df[\"Tax Before Promotions\"] = df[\"Tax Before Promotions\"].str.replace('$','').astype(float)\n",
      "/var/folders/j8/tyjtk3456cvgmxh9rjzjnhp80000gp/T/ipykernel_74643/1755764336.py:7: FutureWarning: The default value of regex will change from True to False in a future version. In addition, single character regular expressions will *not* be treated as literal strings when regex=True.\n",
      "  df[\"Total Promotions\"] = df[\"Total Promotions\"].str.replace('$','').astype(float)\n",
      "/var/folders/j8/tyjtk3456cvgmxh9rjzjnhp80000gp/T/ipykernel_74643/1755764336.py:8: FutureWarning: The default value of regex will change from True to False in a future version. In addition, single character regular expressions will *not* be treated as literal strings when regex=True.\n",
      "  df[\"Tax Charged\"] = df[\"Tax Charged\"].str.replace('$','').astype(float)\n"
     ]
    },
    {
     "data": {
      "text/html": [
       "<div>\n",
       "<style scoped>\n",
       "    .dataframe tbody tr th:only-of-type {\n",
       "        vertical-align: middle;\n",
       "    }\n",
       "\n",
       "    .dataframe tbody tr th {\n",
       "        vertical-align: top;\n",
       "    }\n",
       "\n",
       "    .dataframe thead th {\n",
       "        text-align: right;\n",
       "    }\n",
       "</style>\n",
       "<table border=\"1\" class=\"dataframe\">\n",
       "  <thead>\n",
       "    <tr style=\"text-align: right;\">\n",
       "      <th></th>\n",
       "      <th>Order Date</th>\n",
       "      <th>Order ID</th>\n",
       "      <th>Payment Instrument Type</th>\n",
       "      <th>Website</th>\n",
       "      <th>Purchase Order Number</th>\n",
       "      <th>Ordering Customer Email</th>\n",
       "      <th>Shipment Date</th>\n",
       "      <th>Shipping Address Name</th>\n",
       "      <th>Shipping Address Street 1</th>\n",
       "      <th>Shipping Address Street 2</th>\n",
       "      <th>...</th>\n",
       "      <th>Order Status</th>\n",
       "      <th>Carrier Name &amp; Tracking Number</th>\n",
       "      <th>Subtotal</th>\n",
       "      <th>Shipping Charge</th>\n",
       "      <th>Tax Before Promotions</th>\n",
       "      <th>Total Promotions</th>\n",
       "      <th>Tax Charged</th>\n",
       "      <th>Total Charged</th>\n",
       "      <th>Buyer Name</th>\n",
       "      <th>Group Name</th>\n",
       "    </tr>\n",
       "  </thead>\n",
       "  <tbody>\n",
       "    <tr>\n",
       "      <th>0</th>\n",
       "      <td>04/01/19</td>\n",
       "      <td>112-0000000-0000001</td>\n",
       "      <td>Visa - 0001</td>\n",
       "      <td>Amazon.com</td>\n",
       "      <td>0.0</td>\n",
       "      <td>your_email@gmail.com</td>\n",
       "      <td>04/01/19</td>\n",
       "      <td>Your Name</td>\n",
       "      <td>1 YOUR STREET</td>\n",
       "      <td>0.0</td>\n",
       "      <td>...</td>\n",
       "      <td>Shipped</td>\n",
       "      <td>USPS(0001)</td>\n",
       "      <td>35.00</td>\n",
       "      <td>0.0</td>\n",
       "      <td>1.93</td>\n",
       "      <td>0.0</td>\n",
       "      <td>1.93</td>\n",
       "      <td>36.93</td>\n",
       "      <td>Your Name</td>\n",
       "      <td>0.0</td>\n",
       "    </tr>\n",
       "    <tr>\n",
       "      <th>1</th>\n",
       "      <td>04/01/19</td>\n",
       "      <td>112-0000000-0000002</td>\n",
       "      <td>Visa - 0001</td>\n",
       "      <td>Amazon.com</td>\n",
       "      <td>0.0</td>\n",
       "      <td>your_email@gmail.com</td>\n",
       "      <td>04/01/19</td>\n",
       "      <td>Your Name</td>\n",
       "      <td>1 YOUR STREET</td>\n",
       "      <td>0.0</td>\n",
       "      <td>...</td>\n",
       "      <td>Shipped</td>\n",
       "      <td>USPS(0001)</td>\n",
       "      <td>16.99</td>\n",
       "      <td>0.0</td>\n",
       "      <td>0.00</td>\n",
       "      <td>0.0</td>\n",
       "      <td>0.00</td>\n",
       "      <td>16.99</td>\n",
       "      <td>Your Name</td>\n",
       "      <td>0.0</td>\n",
       "    </tr>\n",
       "    <tr>\n",
       "      <th>2</th>\n",
       "      <td>04/01/19</td>\n",
       "      <td>112-0000000-0000003</td>\n",
       "      <td>Visa - 0001</td>\n",
       "      <td>Amazon.com</td>\n",
       "      <td>0.0</td>\n",
       "      <td>your_email@gmail.com</td>\n",
       "      <td>04/01/19</td>\n",
       "      <td>Your Name</td>\n",
       "      <td>1 YOUR STREET</td>\n",
       "      <td>0.0</td>\n",
       "      <td>...</td>\n",
       "      <td>Shipped</td>\n",
       "      <td>USPS(0001)</td>\n",
       "      <td>9.99</td>\n",
       "      <td>0.0</td>\n",
       "      <td>0.00</td>\n",
       "      <td>0.0</td>\n",
       "      <td>0.00</td>\n",
       "      <td>9.99</td>\n",
       "      <td>Your Name</td>\n",
       "      <td>0.0</td>\n",
       "    </tr>\n",
       "    <tr>\n",
       "      <th>3</th>\n",
       "      <td>04/04/19</td>\n",
       "      <td>112-0000000-0000004</td>\n",
       "      <td>Visa - 0001</td>\n",
       "      <td>Amazon.com</td>\n",
       "      <td>0.0</td>\n",
       "      <td>your_email@gmail.com</td>\n",
       "      <td>04/05/19</td>\n",
       "      <td>Your Name</td>\n",
       "      <td>1 YOUR STREET</td>\n",
       "      <td>0.0</td>\n",
       "      <td>...</td>\n",
       "      <td>Shipped</td>\n",
       "      <td>UPS(0002)</td>\n",
       "      <td>147.98</td>\n",
       "      <td>0.0</td>\n",
       "      <td>8.14</td>\n",
       "      <td>0.0</td>\n",
       "      <td>8.14</td>\n",
       "      <td>156.12</td>\n",
       "      <td>Your Name</td>\n",
       "      <td>0.0</td>\n",
       "    </tr>\n",
       "    <tr>\n",
       "      <th>4</th>\n",
       "      <td>04/05/19</td>\n",
       "      <td>112-0000000-0000005</td>\n",
       "      <td>Visa - 0001</td>\n",
       "      <td>Amazon.com</td>\n",
       "      <td>0.0</td>\n",
       "      <td>your_email@gmail.com</td>\n",
       "      <td>04/07/19</td>\n",
       "      <td>Your Name</td>\n",
       "      <td>1 YOUR STREET</td>\n",
       "      <td>0.0</td>\n",
       "      <td>...</td>\n",
       "      <td>Shipped</td>\n",
       "      <td>USPS(0001)</td>\n",
       "      <td>14.99</td>\n",
       "      <td>0.0</td>\n",
       "      <td>0.00</td>\n",
       "      <td>0.0</td>\n",
       "      <td>0.00</td>\n",
       "      <td>14.99</td>\n",
       "      <td>Your Name</td>\n",
       "      <td>0.0</td>\n",
       "    </tr>\n",
       "  </tbody>\n",
       "</table>\n",
       "<p>5 rows × 23 columns</p>\n",
       "</div>"
      ],
      "text/plain": [
       "  Order Date             Order ID Payment Instrument Type     Website  \\\n",
       "0   04/01/19  112-0000000-0000001             Visa - 0001  Amazon.com   \n",
       "1   04/01/19  112-0000000-0000002             Visa - 0001  Amazon.com   \n",
       "2   04/01/19  112-0000000-0000003             Visa - 0001  Amazon.com   \n",
       "3   04/04/19  112-0000000-0000004             Visa - 0001  Amazon.com   \n",
       "4   04/05/19  112-0000000-0000005             Visa - 0001  Amazon.com   \n",
       "\n",
       "   Purchase Order Number Ordering Customer Email Shipment Date  \\\n",
       "0                    0.0    your_email@gmail.com      04/01/19   \n",
       "1                    0.0    your_email@gmail.com      04/01/19   \n",
       "2                    0.0    your_email@gmail.com      04/01/19   \n",
       "3                    0.0    your_email@gmail.com      04/05/19   \n",
       "4                    0.0    your_email@gmail.com      04/07/19   \n",
       "\n",
       "  Shipping Address Name Shipping Address Street 1  Shipping Address Street 2  \\\n",
       "0             Your Name             1 YOUR STREET                        0.0   \n",
       "1             Your Name             1 YOUR STREET                        0.0   \n",
       "2             Your Name             1 YOUR STREET                        0.0   \n",
       "3             Your Name             1 YOUR STREET                        0.0   \n",
       "4             Your Name             1 YOUR STREET                        0.0   \n",
       "\n",
       "   ... Order Status Carrier Name & Tracking Number Subtotal Shipping Charge  \\\n",
       "0  ...      Shipped                     USPS(0001)    35.00             0.0   \n",
       "1  ...      Shipped                     USPS(0001)    16.99             0.0   \n",
       "2  ...      Shipped                     USPS(0001)     9.99             0.0   \n",
       "3  ...      Shipped                      UPS(0002)   147.98             0.0   \n",
       "4  ...      Shipped                     USPS(0001)    14.99             0.0   \n",
       "\n",
       "  Tax Before Promotions  Total Promotions  Tax Charged  Total Charged  \\\n",
       "0                  1.93               0.0         1.93          36.93   \n",
       "1                  0.00               0.0         0.00          16.99   \n",
       "2                  0.00               0.0         0.00           9.99   \n",
       "3                  8.14               0.0         8.14         156.12   \n",
       "4                  0.00               0.0         0.00          14.99   \n",
       "\n",
       "   Buyer Name  Group Name  \n",
       "0   Your Name         0.0  \n",
       "1   Your Name         0.0  \n",
       "2   Your Name         0.0  \n",
       "3   Your Name         0.0  \n",
       "4   Your Name         0.0  \n",
       "\n",
       "[5 rows x 23 columns]"
      ]
     },
     "execution_count": 203,
     "metadata": {},
     "output_type": "execute_result"
    }
   ],
   "source": [
    "df = pd.read_csv('/Users/loisshin/Downloads/amazon-orders-teacher.csv')\n",
    "df = df.fillna(0)\n",
    "df[\"Subtotal\"] = df[\"Subtotal\"].str.replace('$','').astype(float)\n",
    "df[\"Total Charged\"] = df[\"Total Charged\"].str.replace('$','').astype(float)\n",
    "df[\"Shipping Charge\"] = df[\"Shipping Charge\"].str.replace('$','').astype(float)\n",
    "df[\"Tax Before Promotions\"] = df[\"Tax Before Promotions\"].str.replace('$','').astype(float)\n",
    "df[\"Total Promotions\"] = df[\"Total Promotions\"].str.replace('$','').astype(float)\n",
    "df[\"Tax Charged\"] = df[\"Tax Charged\"].str.replace('$','').astype(float)\n",
    "df.head()"
   ]
  },
  {
   "cell_type": "markdown",
   "id": "bb874202",
   "metadata": {},
   "source": [
    "### Monthly Summary"
   ]
  },
  {
   "cell_type": "code",
   "execution_count": 204,
   "id": "e2b5e20f",
   "metadata": {
    "scrolled": false
   },
   "outputs": [
    {
     "name": "stdout",
     "output_type": "stream",
     "text": [
      "       count       mean        std    min     25%     50%      75%     max\n",
      "month                                                                     \n",
      "4       10.0  39.917000  42.760387   9.99  15.490  32.865  39.7425  156.12\n",
      "5       18.0  16.337778  10.524701   7.60   9.530  12.285  17.4725   38.89\n",
      "6        6.0  21.725000  16.287456  10.59  12.355  13.260  25.2125   51.99\n",
      "7       25.0  38.165200  46.033624   1.04  11.930  16.460  45.2900  210.99\n"
     ]
    }
   ],
   "source": [
    "import datetime\n",
    "df[\"month\"] = pd.DatetimeIndex(df[\"Order Date\"]).month\n",
    "\n",
    "monthlyCost = df.groupby(\"month\")[\"Total Charged\"].describe()\n",
    "print(monthlyCost)"
   ]
  },
  {
   "cell_type": "markdown",
   "id": "4aaf006f",
   "metadata": {},
   "source": [
    "### Statistical Analysis of Total Charged"
   ]
  },
  {
   "cell_type": "markdown",
   "id": "8d42cc2d",
   "metadata": {},
   "source": [
    "Sum of Total Charged"
   ]
  },
  {
   "cell_type": "code",
   "execution_count": 205,
   "id": "f19efdd1",
   "metadata": {
    "scrolled": true
   },
   "outputs": [
    {
     "name": "stdout",
     "output_type": "stream",
     "text": [
      "1777.7300000000002\n"
     ]
    }
   ],
   "source": [
    "print(df[\"Total Charged\"].sum())"
   ]
  },
  {
   "cell_type": "markdown",
   "id": "435bca76",
   "metadata": {},
   "source": [
    "Average of Total Charged "
   ]
  },
  {
   "cell_type": "code",
   "execution_count": 206,
   "id": "4445a1d0",
   "metadata": {},
   "outputs": [
    {
     "name": "stdout",
     "output_type": "stream",
     "text": [
      "30.131016949152542\n"
     ]
    }
   ],
   "source": [
    "print(df[\"Total Charged\"].mean())"
   ]
  },
  {
   "cell_type": "markdown",
   "id": "811a688e",
   "metadata": {},
   "source": [
    "Median, Max, Min, and Standard Deviation of Total Charged"
   ]
  },
  {
   "cell_type": "code",
   "execution_count": 207,
   "id": "a7eeac82",
   "metadata": {},
   "outputs": [
    {
     "name": "stdout",
     "output_type": "stream",
     "text": [
      "15.95\n"
     ]
    }
   ],
   "source": [
    "print((df[\"Total Charged\"]).median())"
   ]
  },
  {
   "cell_type": "code",
   "execution_count": 208,
   "id": "a9605058",
   "metadata": {},
   "outputs": [
    {
     "name": "stdout",
     "output_type": "stream",
     "text": [
      "210.99\n"
     ]
    }
   ],
   "source": [
    "print((df[\"Total Charged\"]).max())"
   ]
  },
  {
   "cell_type": "code",
   "execution_count": 209,
   "id": "c1d89cbb",
   "metadata": {},
   "outputs": [
    {
     "name": "stdout",
     "output_type": "stream",
     "text": [
      "1.04\n"
     ]
    }
   ],
   "source": [
    "print((df[\"Total Charged\"]).min())"
   ]
  },
  {
   "cell_type": "code",
   "execution_count": 210,
   "id": "af789368",
   "metadata": {
    "scrolled": true
   },
   "outputs": [
    {
     "name": "stdout",
     "output_type": "stream",
     "text": [
      "36.42273246651456\n"
     ]
    }
   ],
   "source": [
    "print((df[\"Total Charged\"]).std())"
   ]
  },
  {
   "cell_type": "markdown",
   "id": "9323d8c1",
   "metadata": {},
   "source": [
    "### Sum of all Numerical Catergories"
   ]
  },
  {
   "cell_type": "code",
   "execution_count": 212,
   "id": "4889b8ef",
   "metadata": {},
   "outputs": [
    {
     "name": "stdout",
     "output_type": "stream",
     "text": [
      "1738.2299999999998\n",
      "20.89\n",
      "52.60999999999999\n",
      "34.0\n",
      "52.60999999999999\n",
      "1777.7300000000002\n"
     ]
    }
   ],
   "source": [
    "print(df[\"Subtotal\"].sum())\n",
    "print(df[\"Shipping Charge\"].sum())\n",
    "print(df[\"Tax Before Promotions\"].sum())\n",
    "print(df[\"Total Promotions\"].sum())\n",
    "print(df[\"Tax Charged\"].sum())\n",
    "print(df[\"Total Charged\"].sum())"
   ]
  },
  {
   "cell_type": "markdown",
   "id": "3027f701",
   "metadata": {},
   "source": [
    "### Average of all Numerical Catergories"
   ]
  },
  {
   "cell_type": "code",
   "execution_count": 213,
   "id": "28304ea9",
   "metadata": {},
   "outputs": [
    {
     "name": "stdout",
     "output_type": "stream",
     "text": [
      "Purchase Order Number         0.000000\n",
      "Shipping Address Street 2     0.000000\n",
      "Subtotal                     29.461525\n",
      "Shipping Charge               0.354068\n",
      "Tax Before Promotions         0.891695\n",
      "Total Promotions              0.576271\n",
      "Tax Charged                   0.891695\n",
      "Total Charged                30.131017\n",
      "Group Name                    0.000000\n",
      "month                         5.779661\n",
      "dtype: float64\n"
     ]
    },
    {
     "name": "stderr",
     "output_type": "stream",
     "text": [
      "/var/folders/j8/tyjtk3456cvgmxh9rjzjnhp80000gp/T/ipykernel_74643/2807316344.py:1: FutureWarning: Dropping of nuisance columns in DataFrame reductions (with 'numeric_only=None') is deprecated; in a future version this will raise TypeError.  Select only valid columns before calling the reduction.\n",
      "  print(df.mean())\n"
     ]
    }
   ],
   "source": [
    "print(df.mean())"
   ]
  },
  {
   "cell_type": "markdown",
   "id": "d4856b48",
   "metadata": {},
   "source": [
    "### Median, Max, Min, Standard Deviation of Numerical Catergories"
   ]
  },
  {
   "cell_type": "code",
   "execution_count": 214,
   "id": "b5d9820e",
   "metadata": {},
   "outputs": [
    {
     "name": "stdout",
     "output_type": "stream",
     "text": [
      "14.99\n",
      "0.0\n",
      "0.0\n",
      "0.0\n",
      "0.0\n",
      "15.95\n"
     ]
    }
   ],
   "source": [
    "print(df[\"Subtotal\"].median())\n",
    "print(df[\"Shipping Charge\"].median())\n",
    "print(df[\"Tax Before Promotions\"].median())\n",
    "print(df[\"Total Promotions\"].median())\n",
    "print(df[\"Tax Charged\"].median())\n",
    "print(df[\"Total Charged\"].median())"
   ]
  },
  {
   "cell_type": "code",
   "execution_count": 215,
   "id": "4712aeaa",
   "metadata": {},
   "outputs": [
    {
     "name": "stdout",
     "output_type": "stream",
     "text": [
      "199.99\n",
      "7.96\n",
      "11.0\n",
      "15.0\n",
      "11.0\n",
      "210.99\n"
     ]
    }
   ],
   "source": [
    "print(df[\"Subtotal\"].max())\n",
    "print(df[\"Shipping Charge\"].max())\n",
    "print(df[\"Tax Before Promotions\"].max())\n",
    "print(df[\"Total Promotions\"].max())\n",
    "print(df[\"Tax Charged\"].max())\n",
    "print(df[\"Total Charged\"].max())"
   ]
  },
  {
   "cell_type": "code",
   "execution_count": 216,
   "id": "787e23ec",
   "metadata": {},
   "outputs": [
    {
     "name": "stdout",
     "output_type": "stream",
     "text": [
      "0.52\n",
      "0.0\n",
      "0.0\n",
      "0.0\n",
      "0.0\n",
      "1.04\n"
     ]
    }
   ],
   "source": [
    "print(df[\"Subtotal\"].min())\n",
    "print(df[\"Shipping Charge\"].min())\n",
    "print(df[\"Tax Before Promotions\"].min())\n",
    "print(df[\"Total Promotions\"].min())\n",
    "print(df[\"Tax Charged\"].min())\n",
    "print(df[\"Total Charged\"].min())"
   ]
  },
  {
   "cell_type": "code",
   "execution_count": 217,
   "id": "38295f9b",
   "metadata": {},
   "outputs": [
    {
     "name": "stdout",
     "output_type": "stream",
     "text": [
      "Purchase Order Number         0.000000\n",
      "Shipping Address Street 2     0.000000\n",
      "Subtotal                     35.201502\n",
      "Shipping Charge               1.391525\n",
      "Tax Before Promotions         1.930481\n",
      "Total Promotions              2.443876\n",
      "Tax Charged                   1.930481\n",
      "Total Charged                36.422732\n",
      "Group Name                    0.000000\n",
      "month                         1.175435\n",
      "dtype: float64\n"
     ]
    },
    {
     "name": "stderr",
     "output_type": "stream",
     "text": [
      "/var/folders/j8/tyjtk3456cvgmxh9rjzjnhp80000gp/T/ipykernel_74643/2597523637.py:1: FutureWarning: Dropping of nuisance columns in DataFrame reductions (with 'numeric_only=None') is deprecated; in a future version this will raise TypeError.  Select only valid columns before calling the reduction.\n",
      "  print(df.std())\n"
     ]
    }
   ],
   "source": [
    "print(df.std())"
   ]
  },
  {
   "cell_type": "markdown",
   "id": "81058578",
   "metadata": {},
   "source": [
    "### Graphical Representations"
   ]
  },
  {
   "cell_type": "markdown",
   "id": "64f8334d",
   "metadata": {},
   "source": [
    "#### Pie Chart"
   ]
  },
  {
   "cell_type": "markdown",
   "id": "da8d2b5c",
   "metadata": {},
   "source": [
    "Breakdown of all charges by column that sums to Total Charged."
   ]
  },
  {
   "cell_type": "code",
   "execution_count": 218,
   "id": "937fa2dd",
   "metadata": {},
   "outputs": [
    {
     "data": {
      "image/png": "[encoded data removed]",
      "text/plain": [
       "<Figure size 432x288 with 1 Axes>"
      ]
     },
     "metadata": {},
     "output_type": "display_data"
    }
   ],
   "source": [
    "import matplotlib.pyplot as plt\n",
    "\n",
    "y = []\n",
    "y = [df[\"Subtotal\"].sum(), df[\"Shipping Charge\"].sum(), df[\"Tax Before Promotions\"].sum(), df[\"Total Promotions\"].sum(), df[\"Tax Charged\"].sum()]\n",
    "mylabels = [\"Subtotal\", \"Shipping Charge\", \"Tax Before Promotions\", \"Total Promotions\", \"Tax Charged\"]\n",
    "\n",
    "plt.pie(y, labels = mylabels)\n",
    "plt.title(\"All Charges\")\n",
    "plt.legend(bbox_to_anchor = (1.05, 1.0), title = 'Legend')\n",
    "plt.show()"
   ]
  },
  {
   "cell_type": "markdown",
   "id": "1a055919",
   "metadata": {},
   "source": [
    "#### Bar Chart"
   ]
  },
  {
   "cell_type": "markdown",
   "id": "94e9560a",
   "metadata": {},
   "source": [
    "Breakdown of all charges by column that sums to Total Charged."
   ]
  },
  {
   "cell_type": "code",
   "execution_count": 219,
   "id": "34770301",
   "metadata": {},
   "outputs": [
    {
     "data": {
      "image/png": "[encoded data removed]",
      "text/plain": [
       "<Figure size 432x288 with 1 Axes>"
      ]
     },
     "metadata": {
      "needs_background": "light"
     },
     "output_type": "display_data"
    }
   ],
   "source": [
    "x = np.array([\"Subtotal\", \"Shipping Charge\", \"Tax Before Promotions\", \"Total Promotions\", \"Tax Charged\", \"Total Charged\"])\n",
    "y = [df[\"Subtotal\"].sum(), df[\"Shipping Charge\"].sum(), df[\"Tax Before Promotions\"].sum(), df[\"Total Promotions\"].sum(), df[\"Tax Charged\"].sum(), df[\"Total Charged\"].sum()]\n",
    "\n",
    "plt.barh(x, y)\n",
    "plt.title(\"All Charges\")\n",
    "plt.xlabel(\"Total Cost in Dollars\")\n",
    "plt.ylabel(\"Types of Charges\")\n",
    "plt.show()"
   ]
  },
  {
   "cell_type": "markdown",
   "id": "afa406a7",
   "metadata": {},
   "source": [
    "### Line Graphs"
   ]
  },
  {
   "cell_type": "markdown",
   "id": "c8dda8c8",
   "metadata": {},
   "source": [
    "Subtotal vs. Total Charged Over Time"
   ]
  },
  {
   "cell_type": "code",
   "execution_count": 251,
   "id": "7bc40cee",
   "metadata": {},
   "outputs": [],
   "source": [
    "df[\"Total Cumulative\"]= df[\"Total Charged\"].cumsum(axis = 0)\n",
    "df[\"Subtotal Cumulative\"]= df[\"Subtotal\"].cumsum(axis = 0)"
   ]
  },
  {
   "cell_type": "code",
   "execution_count": 252,
   "id": "dbe961ce",
   "metadata": {},
   "outputs": [
    {
     "data": {
      "text/plain": [
       "[<matplotlib.lines.Line2D at 0x7fb4b8635e80>,\n",
       " <matplotlib.lines.Line2D at 0x7fb4b8635eb0>]"
      ]
     },
     "execution_count": 252,
     "metadata": {},
     "output_type": "execute_result"
    },
    {
     "data": {
      "image/png": "[encoded data removed]",
      "text/plain": [
       "<Figure size 432x288 with 1 Axes>"
      ]
     },
     "metadata": {
      "needs_background": "light"
     },
     "output_type": "display_data"
    }
   ],
   "source": [
    "x1 = np.array(df[\"Total Cumulative\"])\n",
    "y1 = np.array([1 , 2 , 3 , 4 , 5 , 6 , 7 , 8 , 9 , 10 , 11 , 12 , 13 , 14 , 15 , 16 , 17 , 18 , 19 , 20 , 21 , 22 , 23 , 24 , 25 , 26 , 27 , 28 , 29 , 30 , 31 , 32 , 33 , 34 , 35 , 36 , 37 , 38 , 39 , 40 , 41 , 42 , 43 , 44 , 45 , 46 , 47 , 48 , 49 , 50 , 51 , 52 , 53 , 54 , 55 , 56 , 57 , 58 , 59])\n",
    "x2 = np.array(df[\"Subtotal Cumulative\"])\n",
    "y2 = np.array([1 , 2 , 3 , 4 , 5 , 6 , 7 , 8 , 9 , 10 , 11 , 12 , 13 , 14 , 15 , 16 , 17 , 18 , 19 , 20 , 21 , 22 , 23 , 24 , 25 , 26 , 27 , 28 , 29 , 30 , 31 , 32 , 33 , 34 , 35 , 36 , 37 , 38 , 39 , 40 , 41 , 42 , 43 , 44 , 45 , 46 , 47 , 48 , 49 , 50 , 51 , 52 , 53 , 54 , 55 , 56 , 57 , 58 , 59])\n",
    "\n",
    "plt.xlabel(\"Purchase Number\")\n",
    "plt.ylabel(\"Cost in Dollars\")\n",
    "plt.title(\"Total vs Subtotal Charged Over Time\")\n",
    "plt.plot(y1, x1, y2, x2)"
   ]
  }
 ],
 "metadata": {
  "kernelspec": {
   "display_name": "Python 3 (ipykernel)",
   "language": "python",
   "name": "python3"
  },
  "language_info": {
   "codemirror_mode": {
    "name": "ipython",
    "version": 3
   },
   "file_extension": ".py",
   "mimetype": "text/x-python",
   "name": "python",
   "nbconvert_exporter": "python",
   "pygments_lexer": "ipython3",
   "version": "3.9.7"
  }
 },
 "nbformat": 4,
 "nbformat_minor": 5
}
