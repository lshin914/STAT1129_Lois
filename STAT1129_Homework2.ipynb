{
 "cells": [
  {
   "cell_type": "code",
   "execution_count": 69,
   "id": "7cabe15a",
   "metadata": {},
   "outputs": [
    {
     "name": "stdout",
     "output_type": "stream",
     "text": [
      "0\n",
      "1\n",
      "2\n",
      "3\n",
      "4\n"
     ]
    }
   ],
   "source": [
    "n = 0\n",
    "\n",
    "while n < 10:\n",
    "    print(n)\n",
    "    n = n + 1\n",
    "    if n == 5:\n",
    "        break"
   ]
  },
  {
   "cell_type": "code",
   "execution_count": 70,
   "id": "bcf35305",
   "metadata": {},
   "outputs": [
    {
     "name": "stdout",
     "output_type": "stream",
     "text": [
      "0\n",
      "1\n",
      "2\n",
      "3\n",
      "4\n",
      "5 is not less than 5\n"
     ]
    }
   ],
   "source": [
    "n = 0\n",
    "\n",
    "while n < 5:\n",
    "    print(n)\n",
    "    n = n + 1\n",
    "else:\n",
    "    print(str(n) + \" is not less than 5\")"
   ]
  },
  {
   "cell_type": "code",
   "execution_count": 71,
   "id": "54d54431",
   "metadata": {},
   "outputs": [
    {
     "name": "stdout",
     "output_type": "stream",
     "text": [
      "I like peach\n",
      "I like apricot\n",
      "grapes is really a fruit?\n"
     ]
    }
   ],
   "source": [
    "fruits = [\"peach\", \"apricot\", \"grapes\"]\n",
    "\n",
    "for f in fruits:\n",
    "    if f == \"grapes\":\n",
    "        break\n",
    "    print(\"I like \" + f)\n",
    "\n",
    "print(f + \" is really a fruit?\")"
   ]
  },
  {
   "cell_type": "code",
   "execution_count": 72,
   "id": "c6a58368",
   "metadata": {},
   "outputs": [
    {
     "name": "stdout",
     "output_type": "stream",
     "text": [
      "465\n"
     ]
    }
   ],
   "source": [
    "n = 1;\n",
    "sum = 0;\n",
    "\n",
    "while n <= 30:\n",
    "    sum = sum + n\n",
    "    n = n + 1\n",
    "    \n",
    "print(sum)"
   ]
  },
  {
   "cell_type": "code",
   "execution_count": 73,
   "id": "c77e93e9",
   "metadata": {},
   "outputs": [
    {
     "name": "stdout",
     "output_type": "stream",
     "text": [
      "C\n"
     ]
    }
   ],
   "source": [
    "grade = 77\n",
    "\n",
    "if grade >= 90:\n",
    "    print(\"A\")\n",
    "    \n",
    "elif grade >= 80 and grade < 90:\n",
    "    print(\"B\")\n",
    "elif grade < 80 and grade >= 70:\n",
    "    print(\"C\")\n",
    "elif grade < 70 and grade >= 60:\n",
    "    print(\"D\")\n",
    "elif grade < 60:\n",
    "    print(\"F\")"
   ]
  },
  {
   "cell_type": "code",
   "execution_count": 74,
   "id": "a9f14ec6",
   "metadata": {},
   "outputs": [
    {
     "name": "stdout",
     "output_type": "stream",
     "text": [
      "Andy 88\n",
      "Amy 66\n",
      "James 90\n",
      "Arthur 77\n"
     ]
    }
   ],
   "source": [
    "import math\n",
    "grades = {\"Andy\":88, \"Amy\":66, \"James\":90, \"Arthur\":77}\n",
    "\n",
    "for d in grades:\n",
    "    print(d, grades[d])"
   ]
  },
  {
   "cell_type": "code",
   "execution_count": 75,
   "id": "6fd6dd42",
   "metadata": {},
   "outputs": [
    {
     "name": "stdout",
     "output_type": "stream",
     "text": [
      "80.25\n",
      "90\n",
      "66\n"
     ]
    }
   ],
   "source": [
    "all_grades = grades.values()\n",
    "import statistics as stats\n",
    "\n",
    "print(stats.mean(all_grades))\n",
    "print(max(all_grades))\n",
    "print(min(all_grades))"
   ]
  },
  {
   "cell_type": "code",
   "execution_count": 76,
   "id": "ab4c8088",
   "metadata": {},
   "outputs": [
    {
     "name": "stdout",
     "output_type": "stream",
     "text": [
      "Andy\n",
      "Amy\n"
     ]
    }
   ],
   "source": [
    "for d in grades:\n",
    "    if \"J\" in d:\n",
    "        break\n",
    "    print(d)"
   ]
  },
  {
   "cell_type": "code",
   "execution_count": 77,
   "id": "9ecbc49a",
   "metadata": {},
   "outputs": [
    {
     "name": "stdout",
     "output_type": "stream",
     "text": [
      "Andy\n",
      "Amy\n",
      "Arthur\n"
     ]
    }
   ],
   "source": [
    "for d in grades:\n",
    "    if \"J\" in d:\n",
    "        continue\n",
    "    print(d)"
   ]
  }
 ],
 "metadata": {
  "kernelspec": {
   "display_name": "Python 3 (ipykernel)",
   "language": "python",
   "name": "python3"
  },
  "language_info": {
   "codemirror_mode": {
    "name": "ipython",
    "version": 3
   },
   "file_extension": ".py",
   "mimetype": "text/x-python",
   "name": "python",
   "nbconvert_exporter": "python",
   "pygments_lexer": "ipython3",
   "version": "3.9.7"
  }
 },
 "nbformat": 4,
 "nbformat_minor": 5
}
