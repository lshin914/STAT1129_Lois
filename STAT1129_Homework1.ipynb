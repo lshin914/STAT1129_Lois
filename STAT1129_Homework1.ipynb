{
 "cells": [
  {
   "cell_type": "code",
   "execution_count": 121,
   "id": "b0363a2d",
   "metadata": {},
   "outputs": [
    {
     "name": "stdout",
     "output_type": "stream",
     "text": [
      "[30, 35, 40, 45, 50, 55, 60]\n",
      "[60, 55, 50, 45, 40, 35, 30]\n",
      "[65, 60, 55, 50, 45, 40, 35, 30]\n"
     ]
    }
   ],
   "source": [
    "nums = list(range(30, 61, 5))    # Generate a list of numbers from 30 to 60 with interval 5, using range\n",
    "print (nums)\n",
    "\n",
    "print (nums[::-1])               # Order your list in reversed order\n",
    "\n",
    "nums.append(65)\n",
    "print (nums[::-1])               # Insert 65 to the beginning of your new list"
   ]
  },
  {
   "cell_type": "code",
   "execution_count": 122,
   "id": "a63eb2df",
   "metadata": {
    "scrolled": false
   },
   "outputs": [
    {
     "name": "stdout",
     "output_type": "stream",
     "text": [
      "[0, 1, 2, 3, 4, 5, 6, 7, 8, 9, 10, 11, 12, 13, 14, 15, 16, 17, 18, 19, 20]\n",
      "[1, 2, 3, 4, 5, 6, 7, 8, 9, 10, 11, 12, 13, 14, 15, 16, 17, 18, 19, 20]\n",
      "20\n",
      "20\n",
      "1\n",
      "210\n"
     ]
    }
   ],
   "source": [
    "nums = []                # Create an empty list.\n",
    "for n in range (21):\n",
    "    nums.append(n)       # Append integers 0-20 to the list\n",
    "print (nums)\n",
    "\n",
    "del nums[0]              # Delete item 0\n",
    "print (nums)\n",
    "\n",
    "print(len(nums))         # Return the length, maximal and minimal values of the newest list.\n",
    "print(max(nums))\n",
    "print(min(nums))\n",
    "\n",
    "Sum = sum(nums)          # Sum up all items.\n",
    "print(Sum)"
   ]
  },
  {
   "cell_type": "code",
   "execution_count": 123,
   "id": "35d0a5e2",
   "metadata": {},
   "outputs": [
    {
     "name": "stdout",
     "output_type": "stream",
     "text": [
      "{'sunny': 'play', 'rainy': 'watch TV', 'cloudy': 'walk'}\n",
      "When sunny let us play\n",
      "When rainy let us watch TV\n",
      "When cloudy let us walk\n",
      "{'sunny': 'play', 'rainy': 'watch TV', 'cloudy': 'walk', 'snowy': 'ski'}\n"
     ]
    }
   ],
   "source": [
    "weatherList = {\"sunny\": \"play\", \"rainy\": \"watch TV\", \"cloudy\": \"walk\"}      # Create a weather dictionary\n",
    "print(weatherList)\n",
    "\n",
    "\n",
    "for weather in weatherList:                                                 # Using for loop, print out all the keys and values in the same line.\n",
    "    print(\"When\", weather, \"let us\", weatherList[weather])\n",
    "    \n",
    "weatherList[\"snowy\"] = \"ski\"                                                # Then add a new pair (“snowy”, “ski”) to your dictionary.\n",
    "print(weatherList)"
   ]
  }
 ],
 "metadata": {
  "kernelspec": {
   "display_name": "Python 3 (ipykernel)",
   "language": "python",
   "name": "python3"
  },
  "language_info": {
   "codemirror_mode": {
    "name": "ipython",
    "version": 3
   },
   "file_extension": ".py",
   "mimetype": "text/x-python",
   "name": "python",
   "nbconvert_exporter": "python",
   "pygments_lexer": "ipython3",
   "version": "3.9.7"
  }
 },
 "nbformat": 4,
 "nbformat_minor": 5
}
